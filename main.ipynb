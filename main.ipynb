{
 "cells": [
  {
   "cell_type": "markdown",
   "metadata": {},
   "source": [
    "# Implementing transformers from scratch"
   ]
  },
  {
   "cell_type": "markdown",
   "metadata": {},
   "source": [
    "## Imports"
   ]
  },
  {
   "cell_type": "code",
   "execution_count": 1,
   "metadata": {},
   "outputs": [],
   "source": [
    "import torch\n",
    "import torch.nn as nn"
   ]
  },
  {
   "cell_type": "markdown",
   "metadata": {},
   "source": [
    "## Vanilla Self attention"
   ]
  },
  {
   "cell_type": "code",
   "execution_count": 2,
   "metadata": {},
   "outputs": [],
   "source": [
    "\n",
    "class SelfAttention(nn.Module):\n",
    "    def __init__(self, d_in: int, d_out: int, qkv_bias: bool = False):\n",
    "        super().__init__()\n",
    "        self.W_q = nn.Linear(d_in, d_out, bias = qkv_bias)\n",
    "        self.W_k = nn.Linear(d_in, d_out, bias = qkv_bias)\n",
    "        self.W_v = nn.Linear(d_in, d_out, bias = qkv_bias)\n",
    "        \n",
    "    def forward(self, x):\n",
    "        keys = self.W_k(x)\n",
    "        queries = self.W_q(x)\n",
    "        values = self.W_v(x)\n",
    "        attn_scores = queries @ keys.T\n",
    "        attn_weights = torch.torch.softmax(\n",
    "            attn_scores / keys.shape[-1]**0.5, dim=-1\n",
    "            )\n",
    "        return attn_weights @ values\n",
    "        "
   ]
  },
  {
   "cell_type": "markdown",
   "metadata": {},
   "source": [
    "## Casual attention (Masking future tokens)"
   ]
  },
  {
   "cell_type": "code",
   "execution_count": 3,
   "metadata": {},
   "outputs": [],
   "source": [
    "class CasualAttention(nn.Module):\n",
    "    def __init__(self, d_in: int, d_out: int, context_length: int, dropout: float, qkv_bias: bool = False):\n",
    "        super().__init__()\n",
    "        self.d_out = d_out\n",
    "        self.W_q = nn.Linear(d_in, d_out, bias = qkv_bias)\n",
    "        self.W_k = nn.Linear(d_in, d_out, bias = qkv_bias)\n",
    "        self.W_v = nn.Linear(d_in, d_out, bias = qkv_bias)\n",
    "        self.dropout = nn.Dropout(dropout)\n",
    "        self.register_buffer(\n",
    "            'mask',\n",
    "            torch.triu(torch.ones(context_length, context_length),\n",
    "            diagonal=1)\n",
    "            ) \n",
    "    \n",
    "    def forward(self, x):\n",
    "        batch, num_tokens, d_in = x.shape\n",
    "        keys = self.W_k(x)\n",
    "        queries = self.W_q(x)\n",
    "        values = self.W_v(x)\n",
    "        attn_scores = queries @ keys.transpose(1,2)\n",
    "        attn_scores.masked_fill_(self.mask.bool()[:num_tokens, :num_tokens], -torch.inf)\n",
    "        attn_weights = torch.torch.softmax(\n",
    "            attn_scores / keys.shape[-1]**0.5, dim=-1\n",
    "            )\n",
    "        attn_weights = self.dropout(attn_weights)\n",
    "        return attn_weights @ values\n",
    "        "
   ]
  },
  {
   "cell_type": "markdown",
   "metadata": {},
   "source": [
    "## Multihead attention (multiple QKV pairs)"
   ]
  },
  {
   "cell_type": "code",
   "execution_count": 4,
   "metadata": {},
   "outputs": [],
   "source": [
    "class MultiHeadAttention(nn.Module):\n",
    "    def __init__(self, d_in: int, d_out: int, context_length: int, dropout: float, num_heads: int, qkv_bias: bool = False):\n",
    "        super().__init__()\n",
    "        assert (d_out % num_heads == 0), \\\n",
    "        \"d_out must be divisible by num_heads\"\n",
    "        \n",
    "        self.d_out = d_out\n",
    "        self.num_heads = num_heads\n",
    "        self.head_dim = d_out // num_heads\n",
    "        self.W_q = nn.Linear(d_in, d_out, bias = qkv_bias)\n",
    "        self.W_k = nn.Linear(d_in, d_out, bias = qkv_bias)\n",
    "        self.W_v = nn.Linear(d_in, d_out, bias = qkv_bias)\n",
    "        self.out_proj = nn.Linear(d_out, d_out)\n",
    "        self.dropout = nn.Dropout(dropout)\n",
    "        self.register_buffer(\n",
    "            'mask',\n",
    "            torch.triu(torch.ones(context_length, context_length),\n",
    "            diagonal=1)\n",
    "            )\n",
    "        \n",
    "    def forward(self, x):\n",
    "        batch, num_tokens, d_in = x.shape\n",
    "        \n",
    "        # Project input x with qkv weight matrices, each has dimensions: (batch, num_tokens, d_out)\n",
    "        keys = self.W_k(x)\n",
    "        queries = self.W_q(x)\n",
    "        values = self.W_v(x) \n",
    "        \n",
    "        # Unrolling the last dimension d_out --> (self.num_heads, self.head_dim), shape is now (b, num_tokens, num_heads, head_dim)\n",
    "        keys = keys.view(batch, num_tokens, self.num_heads, self.head_dim)\n",
    "        values = values.view(batch, num_tokens, self.num_heads, self.head_dim)\n",
    "        queries = queries.view(\n",
    "        batch, num_tokens, self.num_heads, self.head_dim\n",
    "        )\n",
    "        \n",
    "        # Transposes the shape, shape is now (b, num_heads, num_tokens, head_dim)\n",
    "        keys = keys.transpose(1, 2)\n",
    "        queries = queries.transpose(1, 2)\n",
    "        values = values.transpose(1, 2)\n",
    "        \n",
    "        # Since the first 2 are basically \"metadata\", we transpose the dimensions of dim 2 and 3 instead (we padded an additional dimension \"num heads\" before the thing)\n",
    "        attn_scores = queries @ keys.transpose(2, 3)\n",
    "        \n",
    "        # Masking future tokens (to prevent information leakage)\n",
    "        mask_bool = self.mask.bool()[:num_tokens, :num_tokens]\n",
    "        attn_scores.masked_fill_(mask_bool, -torch.inf) \n",
    "        \n",
    "        attn_weights = torch.torch.softmax(\n",
    "            attn_scores / keys.shape[-1]**0.5, dim=-1\n",
    "            )\n",
    "        \n",
    "        # From this step onwards, reverts the \"transformations\" before the multihead attention operations occurs\n",
    "        \n",
    "        # Shape reverted  from (b, num_heads, num_tokens, head_dim) back to (b, num_tokens, num_heads, head_dim)\n",
    "        context_vec = (attn_weights @ values).transpose(1, 2)\n",
    "        \n",
    "        # Combines the num_heads and head_dim dimensions back to the d_out dimension, \n",
    "        # We get the vector \"back to its original format\" (since we just performed)\n",
    "        context_vec = context_vec.contiguous().view(\n",
    "            batch, num_tokens, self.d_out\n",
    "            )\n",
    "        \n",
    "        context_vec = self.out_proj(context_vec)\n",
    "        return context_vec\n"
   ]
  },
  {
   "cell_type": "markdown",
   "metadata": {},
   "source": [
    "## Multiquery Attention (shared KV matrices)"
   ]
  },
  {
   "cell_type": "code",
   "execution_count": 5,
   "metadata": {},
   "outputs": [],
   "source": [
    "class MultiQueryAttention(nn.Module):\n",
    "    def __init__(self, d_in: int, d_out: int, context_length: int, dropout: float, num_heads: int, qkv_bias: bool = False):\n",
    "        super().__init__()\n",
    "        assert (d_out % num_heads == 0), \\\n",
    "        \"d_out must be divisible by num_heads\"\n",
    "        \n",
    "        self.d_out = d_out\n",
    "        self.num_heads = num_heads\n",
    "        self.head_dim = d_out // num_heads\n",
    "        \n",
    "        # Query projects to full d_out dimension (will be split into heads)\n",
    "        self.W_q = nn.Linear(d_in, d_out, bias=qkv_bias)\n",
    "        # Key and Value project only to head_dim (shared across heads)\n",
    "        self.W_k = nn.Linear(d_in, self.head_dim, bias=qkv_bias)\n",
    "        self.W_v = nn.Linear(d_in, self.head_dim, bias=qkv_bias)\n",
    "        \n",
    "        self.out_proj = nn.Linear(d_out, d_out)\n",
    "        self.dropout = nn.Dropout(dropout)\n",
    "        self.register_buffer(\n",
    "            'mask',\n",
    "            torch.triu(torch.ones(context_length, context_length),\n",
    "            diagonal=1)\n",
    "        )\n",
    "        \n",
    "    def forward(self, x):\n",
    "        batch, num_tokens, d_in = x.shape\n",
    "        \n",
    "        # Project queries to full dimension and reshape\n",
    "        queries = self.W_q(x).view(batch, num_tokens, self.num_heads, self.head_dim)\n",
    "        # Project keys and values to single head dimension\n",
    "        keys = self.W_k(x)    # shape: (batch, num_tokens, head_dim)\n",
    "        values = self.W_v(x)  # shape: (batch, num_tokens, head_dim)\n",
    "        \n",
    "        # Transpose queries for attention computation\n",
    "        queries = queries.transpose(1, 2)  # (batch, num_heads, num_tokens, head_dim)\n",
    "        \n",
    "        # Compute attention scores\n",
    "        # keys/values are broadcast across num_heads dimension\n",
    "        attn_scores = queries @ keys.unsqueeze(1).transpose(-2, -1)\n",
    "        \n",
    "        # Masking future tokens\n",
    "        mask_bool = self.mask.bool()[:num_tokens, :num_tokens]\n",
    "        attn_scores.masked_fill_(mask_bool, -torch.inf)\n",
    "        \n",
    "        attn_weights = torch.softmax(\n",
    "            attn_scores / self.head_dim**0.5, dim=-1\n",
    "        )\n",
    "        \n",
    "        # Apply attention weights to values (broadcasting happens automatically)\n",
    "        context_vec = (attn_weights @ values.unsqueeze(1)).transpose(1, 2)\n",
    "        \n",
    "        # Reshape back to original dimensions\n",
    "        context_vec = context_vec.contiguous().view(batch, num_tokens, self.d_out)\n",
    "        \n",
    "        return self.out_proj(context_vec)"
   ]
  },
  {
   "cell_type": "markdown",
   "metadata": {},
   "source": [
    "## Grouped Query Attention (multiple Q matrices, each shared by multiple kv pairs)"
   ]
  },
  {
   "cell_type": "code",
   "execution_count": 6,
   "metadata": {},
   "outputs": [],
   "source": [
    "class GroupedQueryAttention(nn.Module):\n",
    "    def __init__(self, d_in: int, d_out: int, context_length: int, dropout: float, \n",
    "                 num_heads: int, num_kv_heads: int, qkv_bias: bool = False):\n",
    "        super().__init__()\n",
    "        assert (d_out % num_heads == 0), \"d_out must be divisible by num_heads\"\n",
    "        assert (num_heads % num_kv_heads == 0), \"num_heads must be divisible by num_kv_heads\"\n",
    "        \n",
    "        self.d_out = d_out\n",
    "        self.num_heads = num_heads\n",
    "        self.num_kv_heads = num_kv_heads\n",
    "        self.head_dim = d_out // num_heads\n",
    "        self.num_queries_per_kv = num_heads // num_kv_heads\n",
    "        \n",
    "        # Query projects to full d_out dimension\n",
    "        self.W_q = nn.Linear(d_in, d_out, bias=qkv_bias)\n",
    "        # Key and Value project to (num_kv_heads * head_dim)\n",
    "        self.W_k = nn.Linear(d_in, self.num_kv_heads * self.head_dim, bias=qkv_bias)\n",
    "        self.W_v = nn.Linear(d_in, self.num_kv_heads * self.head_dim, bias=qkv_bias)\n",
    "        \n",
    "        self.out_proj = nn.Linear(d_out, d_out)\n",
    "        self.dropout = nn.Dropout(dropout)\n",
    "        self.register_buffer(\n",
    "            'mask',\n",
    "            torch.triu(torch.ones(context_length, context_length),\n",
    "            diagonal=1)\n",
    "        )\n",
    "        \n",
    "    def forward(self, x: torch.Tensor):\n",
    "        batch, num_tokens, d_in = x.shape\n",
    "        \n",
    "        # Project and reshape queries\n",
    "        queries = self.W_q(x).view(batch, num_tokens, self.num_heads, self.head_dim)\n",
    "        \n",
    "        # Project and reshape keys and values\n",
    "        keys = self.W_k(x).view(batch, num_tokens, self.num_kv_heads, self.head_dim)\n",
    "        values = self.W_v(x).view(batch, num_tokens, self.num_kv_heads, self.head_dim)\n",
    "        \n",
    "        # Transpose for attention computation\n",
    "        queries = queries.transpose(1, 2)  # (batch, num_heads, num_tokens, head_dim)\n",
    "        keys = keys.transpose(1, 2)        # (batch, num_kv_heads, num_tokens, head_dim)\n",
    "        values = values.transpose(1, 2)    # (batch, num_kv_heads, num_tokens, head_dim)\n",
    "        \n",
    "        # Repeat keys and values for each query in the group\n",
    "        keys = keys.repeat_interleave(self.num_queries_per_kv, dim=1)\n",
    "        values = values.repeat_interleave(self.num_queries_per_kv, dim=1)\n",
    "        \n",
    "        # Compute attention scores\n",
    "        attn_scores = queries @ keys.transpose(-2, -1)\n",
    "        \n",
    "        # Masking future tokens\n",
    "        mask_bool = self.mask.bool()[:num_tokens, :num_tokens]\n",
    "        attn_scores.masked_fill_(mask_bool, -torch.inf)\n",
    "        \n",
    "        attn_weights = torch.softmax(\n",
    "            attn_scores / self.head_dim**0.5, dim=-1\n",
    "        )\n",
    "        \n",
    "        # Apply attention weights\n",
    "        context_vec = (attn_weights @ values).transpose(1, 2)\n",
    "        \n",
    "        # Reshape back to original dimensions\n",
    "        context_vec = context_vec.contiguous().view(batch, num_tokens, self.d_out)\n",
    "        \n",
    "        return self.out_proj(context_vec)"
   ]
  },
  {
   "cell_type": "markdown",
   "metadata": {},
   "source": [
    "# Building the transformer block"
   ]
  },
  {
   "cell_type": "markdown",
   "metadata": {},
   "source": [
    "## Layernorm"
   ]
  },
  {
   "cell_type": "code",
   "execution_count": 7,
   "metadata": {},
   "outputs": [],
   "source": [
    "class LayerNorm(nn.Module):\n",
    "    def __init__(self, emb_dim):\n",
    "        super().__init__()\n",
    "        self.eps = 1e-5\n",
    "        self.scale = nn.Parameter(torch.ones(emb_dim))\n",
    "        self.shift = nn.Parameter(torch.zeros(emb_dim))\n",
    "    \n",
    "    def forward(self, x: torch.Tensor):\n",
    "        mean = x.mean(dim = -1, keepdim = True)\n",
    "        var = x.var(dim = -1, keepdim = True, unbiased = False)\n",
    "        norm_x = (x - mean) / torch.sqrt(var + self.eps)\n",
    "        return self.scale * norm_x + self.shift"
   ]
  },
  {
   "cell_type": "markdown",
   "metadata": {},
   "source": [
    "## Gelu activation function"
   ]
  },
  {
   "cell_type": "code",
   "execution_count": 8,
   "metadata": {},
   "outputs": [],
   "source": [
    "class GELU(nn.Module):\n",
    "    def __init__(self):\n",
    "        super().__init__()\n",
    "        \n",
    "    def forward(self, x):\n",
    "        return 0.5 * x * (1 + torch.tanh(\n",
    "            torch.sqrt(torch.tensor(2.0 / torch.pi)) * \n",
    "            (x + 0.044715 * torch.pow(x, 3))\n",
    "            ))"
   ]
  },
  {
   "cell_type": "markdown",
   "metadata": {},
   "source": [
    "## FFN (with GELU activations)"
   ]
  },
  {
   "cell_type": "code",
   "execution_count": 9,
   "metadata": {},
   "outputs": [],
   "source": [
    "class FeedForward(nn.Module):\n",
    "    def __init__(self, emb_dim: int, projection_multiplier: float = 4.0):\n",
    "        super().__init__()\n",
    "        self.layers = nn.Sequential(\n",
    "        nn.Linear(emb_dim, int(projection_multiplier*emb_dim)),\n",
    "        GELU(),\n",
    "        nn.Linear(int(projection_multiplier*emb_dim), emb_dim),\n",
    "        )\n",
    "    def forward(self, x):\n",
    "        return self.layers(x)"
   ]
  },
  {
   "cell_type": "markdown",
   "metadata": {},
   "source": [
    "## Transformer Block"
   ]
  },
  {
   "cell_type": "code",
   "execution_count": 10,
   "metadata": {},
   "outputs": [],
   "source": [
    "class TransformerBlock(nn.Module):\n",
    "    def __init__(self, emb_dim: int, context_length: int, n_heads: int, drop_rate: float, qkv_bias: bool, ff_projection_multiplier: float = 4.0, **kwargs):\n",
    "        super().__init__()\n",
    "        \n",
    "        self.attention = MultiHeadAttention(\n",
    "        d_in=emb_dim,\n",
    "        d_out=emb_dim,\n",
    "        context_length=context_length,\n",
    "        num_heads=n_heads,\n",
    "        dropout=drop_rate,\n",
    "        qkv_bias=qkv_bias)\n",
    "        \n",
    "        self.feedforward = FeedForward(emb_dim, ff_projection_multiplier)\n",
    "        self.norm1 = LayerNorm(emb_dim)\n",
    "        self.norm2 = LayerNorm(emb_dim)\n",
    "        self.drop_shortcut = nn.Dropout(drop_rate)\n",
    "        \n",
    "    def forward(self, x):\n",
    "        \n",
    "        shortcut = x\n",
    "        x = self.norm1(x)\n",
    "        x = self.attention(x)\n",
    "        x = self.drop_shortcut(x)\n",
    "        x = x + shortcut\n",
    "        \n",
    "        shortcut = x\n",
    "        x = self.norm2(x)\n",
    "        x = self.feedforward(x)\n",
    "        x = self.drop_shortcut(x)\n",
    "        x = x + shortcut\n",
    "        \n",
    "        return x"
   ]
  },
  {
   "cell_type": "markdown",
   "metadata": {},
   "source": [
    "### Test Transformer Block"
   ]
  },
  {
   "cell_type": "code",
   "execution_count": 11,
   "metadata": {},
   "outputs": [],
   "source": [
    "GPT_CONFIG_124M = {\n",
    "    \"vocab_size\": 50257, # Vocabulary size\n",
    "    \"context_length\": 1024, # Context length\n",
    "    \"emb_dim\": 768, # Embedding dimension\n",
    "    \"n_heads\": 12, # Number of attention heads\n",
    "    \"n_layers\": 12, # Number of layers\n",
    "    \"drop_rate\": 0.1, # Dropout rate\n",
    "    \"qkv_bias\": False # Query-Key-Value bias\n",
    "}"
   ]
  },
  {
   "cell_type": "code",
   "execution_count": 12,
   "metadata": {},
   "outputs": [
    {
     "name": "stdout",
     "output_type": "stream",
     "text": [
      "Input shape: torch.Size([2, 4, 768])\n",
      "Output shape: torch.Size([2, 4, 768])\n"
     ]
    }
   ],
   "source": [
    "torch.manual_seed(123)\n",
    "x = torch.rand(2, 4, 768)\n",
    "block = TransformerBlock(**GPT_CONFIG_124M)\n",
    "output = block(x)\n",
    "\n",
    "print(\"Input shape:\", x.shape)\n",
    "print(\"Output shape:\", output.shape)"
   ]
  },
  {
   "cell_type": "markdown",
   "metadata": {},
   "source": [
    "## GPT model"
   ]
  },
  {
   "cell_type": "code",
   "execution_count": 15,
   "metadata": {},
   "outputs": [],
   "source": [
    "class GPTModel(nn.Module):\n",
    "    def __init__(self, vocab_size: int, emb_dim: int, context_length: int, n_heads: int, n_layers: int, drop_rate: float, qkv_bias: bool, ff_projection_multiplier: float = 4.0, **kwargs):\n",
    "        super().__init__()\n",
    "        self.token_emb = nn.Embedding(vocab_size, emb_dim)\n",
    "        self.positional_emb = nn.Embedding(context_length, emb_dim)\n",
    "        self.drop_emb = nn.Dropout(drop_rate)\n",
    "\n",
    "        self.transformer_blocks = nn.Sequential(\n",
    "        *[TransformerBlock(emb_dim, context_length, n_heads, drop_rate, qkv_bias, ff_projection_multiplier) for _ in range(n_layers)]\n",
    "        )\n",
    "\n",
    "        self.final_norm = LayerNorm(emb_dim)\n",
    "        self.out_head = nn.Linear(\n",
    "        emb_dim, vocab_size, bias=False\n",
    "        )\n",
    "    def forward(self, in_idx):\n",
    "        \n",
    "        batch_size, seq_len = in_idx.shape\n",
    "        tok_embeds = self.token_emb(in_idx)\n",
    "\n",
    "        pos_embeds = self.positional_emb(\n",
    "        torch.arange(seq_len, device=in_idx.device)\n",
    "        )\n",
    "        x = tok_embeds + pos_embeds\n",
    "        x = self.drop_emb(x)\n",
    "        x = self.transformer_blocks(x)\n",
    "        x = self.final_norm(x)\n",
    "        logits = self.out_head(x)\n",
    "        return logits"
   ]
  },
  {
   "cell_type": "markdown",
   "metadata": {},
   "source": [
    "### Test GPT model block"
   ]
  },
  {
   "cell_type": "code",
   "execution_count": null,
   "metadata": {},
   "outputs": [],
   "source": [
    "GPT_CONFIG_124M = {\n",
    "    \"vocab_size\": 50257, # Vocabulary size\n",
    "    \"context_length\": 1024, # Context length\n",
    "    \"emb_dim\": 768, # Embedding dimension\n",
    "    \"n_heads\": 12, # Number of attention heads\n",
    "    \"n_layers\": 12, # Number of layers\n",
    "    \"drop_rate\": 0.1, # Dropout rate\n",
    "    \"qkv_bias\": False # Query-Key-Value bias\n",
    "}"
   ]
  },
  {
   "cell_type": "code",
   "execution_count": 18,
   "metadata": {},
   "outputs": [
    {
     "name": "stdout",
     "output_type": "stream",
     "text": [
      "Input shape: torch.Size([2, 4])\n",
      "Output shape: torch.Size([2, 4, 50257])\n",
      "tensor([[[ 0.1936,  0.1579, -0.1142,  ...,  0.2896, -0.0771, -0.2860],\n",
      "         [ 0.4969, -0.4337, -0.5846,  ..., -0.3765, -0.0187, -0.2397],\n",
      "         [ 0.9601, -0.1557,  0.1358,  ...,  0.0581, -0.4173, -0.1250],\n",
      "         [-0.7732,  0.0467, -0.3654,  ...,  0.8903,  0.3966, -0.4360]],\n",
      "\n",
      "        [[ 0.1809,  0.3011, -0.2012,  ...,  0.1549,  0.2090, -0.4654],\n",
      "         [ 0.2816, -0.1873,  0.1192,  ...,  1.2138,  0.0332,  0.1018],\n",
      "         [ 0.7811,  0.7691, -0.2902,  ...,  0.7433,  0.3737, -0.0160],\n",
      "         [-0.1014, -0.3333,  0.2874,  ...,  1.1855, -0.6303,  0.0312]]],\n",
      "       grad_fn=<UnsafeViewBackward0>)\n"
     ]
    }
   ],
   "source": [
    "torch.manual_seed(123)\n",
    "input_batch = torch.tensor([[6109, 3626, 6100, 345],\n",
    "                             [6109, 1110, 6622, 257]], dtype=torch.long)\n",
    "model = GPTModel(**GPT_CONFIG_124M)\n",
    "output = model(input_batch)\n",
    "\n",
    "print(\"Input shape:\", input_batch.shape)\n",
    "print(\"Output shape:\", output.shape)\n",
    "print(output)"
   ]
  },
  {
   "cell_type": "code",
   "execution_count": 19,
   "metadata": {},
   "outputs": [
    {
     "name": "stdout",
     "output_type": "stream",
     "text": [
      "Total number of parameters: 163,009,536\n"
     ]
    }
   ],
   "source": [
    "total_params = sum(p.numel() for p in model.parameters())\n",
    "print(f\"Total number of parameters: {total_params:,}\")"
   ]
  },
  {
   "cell_type": "code",
   "execution_count": 20,
   "metadata": {},
   "outputs": [
    {
     "name": "stdout",
     "output_type": "stream",
     "text": [
      "Total size of the model: 621.83 MB\n"
     ]
    }
   ],
   "source": [
    "total_size_bytes = total_params * 4\n",
    "total_size_mb = total_size_bytes / (1024 * 1024)\n",
    "print(f\"Total size of the model: {total_size_mb:.2f} MB\")"
   ]
  },
  {
   "cell_type": "markdown",
   "metadata": {},
   "source": [
    "## Text Generation"
   ]
  },
  {
   "cell_type": "markdown",
   "metadata": {},
   "source": [
    "### Greedy Decoding"
   ]
  },
  {
   "cell_type": "code",
   "execution_count": null,
   "metadata": {},
   "outputs": [],
   "source": [
    "def generate_text_greedy(model: nn.Module, idx: torch.Tensor, max_new_tokens: int, context_size: int):\n",
    "    \n",
    "    # Generates \"max_new_tokens\" tokens from the model, no stopping mechanism using special \"<|endoftext|>\" tokens\n",
    "    for _ in range(max_new_tokens):\n",
    "        idx_cond = idx[:, -context_size:]\n",
    "        with torch.no_grad():\n",
    "            logits = model(idx_cond)\n",
    "\n",
    "        logits = logits[:, -1, :] # check only the logits of the last word\n",
    "        probas = torch.softmax(logits, dim=-1)\n",
    "        idx_next = torch.argmax(probas, dim=-1, keepdim=True)\n",
    "        idx = torch.cat((idx, idx_next), dim=1)\n",
    "    \n",
    "    return idx"
   ]
  },
  {
   "cell_type": "code",
   "execution_count": null,
   "metadata": {},
   "outputs": [],
   "source": [
    "from typing import Optional\n",
    "\n",
    "def generate_text(model: nn.Module, idx: torch.Tensor, max_new_tokens: int, context_size: int, temperature: float = 0.0, top_p: float = 1.0, top_k: Optional[int] = None, eos_id: Optional[int] = None):\n",
    "    \n",
    "    # Generates \"max_new_tokens\" tokens from the model, no stopping mechanism using special \"<|endoftext|>\" tokens\n",
    "    for _ in range(max_new_tokens):\n",
    "        idx_cond = idx[:, -context_size:]\n",
    "        with torch.no_grad():\n",
    "            logits = model(idx_cond)\n",
    "\n",
    "        logits = logits[:, -1, :] # check only the logits of the last word\n",
    "        \n",
    "        if temperature == 0:  # Better to check for 0 explicitly\n",
    "            logits = logits  # No temperature scaling\n",
    "        else:\n",
    "            logits = logits / temperature\n",
    "        \n",
    "        if top_k is not None:\n",
    "            _, top_k_pos = torch.topk(logits, top_k) # Find top_k positions\n",
    "            \n",
    "            # Create a boolean mask for positions\n",
    "            indices = torch.arange(logits.size(-1), device=logits.device)\n",
    "            is_in_topk = torch.isin(indices, top_k_pos, assume_unique = True) # assume_unique = True as indices won't repeat.\n",
    "            \n",
    "            # Only keep top k and change the rest into inf\n",
    "            logits = torch.where(\n",
    "                condition=is_in_topk,\n",
    "                input=logits,\n",
    "                other=torch.tensor(float('-inf'), device=logits.device)\n",
    "            )\n",
    "        \n",
    "        probas = torch.softmax(logits, dim=-1)\n",
    "        \n",
    "        if top_p <= 1.0:\n",
    "            sorted_probas, _ = torch.sort(probas, descending=True)\n",
    "            \n",
    "            # Cumulative sum according by logits, and then mask logits if accumulated over topp\n",
    "            cumulative_probas = torch.cumsum(sorted_probas, dim=-1) \n",
    "            mask = cumulative_probas <= top_p\n",
    "            \n",
    "            cutoff_idx = torch.nonzero(mask)[-1]\n",
    "            cutoff = sorted_probas[cutoff_idx]\n",
    "            \n",
    "            probas = torch.where(probas < cutoff, torch.tensor(0.0), probas)\n",
    "            probas = probas / probas.sum()\n",
    "        \n",
    "        # # What the fuck does torch scatter/ torch gather do.\n",
    "        # if top_p < 1.0:  # Only apply if top_p < 1.0\n",
    "        #     sorted_probas, sorted_indices = torch.sort(probas, descending=True)\n",
    "        #     cumulative_probas = torch.cumsum(sorted_probas, dim=-1)\n",
    "        #     # Remove tokens with cumulative probability above the threshold\n",
    "        #     sorted_indices_to_remove = cumulative_probas > top_p\n",
    "        #     # Shift the indices to the right to keep also the first token above the threshold\n",
    "        #     sorted_indices_to_remove[..., 1:] = sorted_indices_to_remove[..., :-1].clone()\n",
    "        #     sorted_indices_to_remove[..., 0] = 0\n",
    "\n",
    "        #     indices_to_remove = sorted_indices_to_remove.scatter(dim=-1, index=sorted_indices, src=sorted_indices_to_remove)\n",
    "        #     probas = probas.masked_fill(indices_to_remove, 0.0)\n",
    "        #     probas = probas / probas.sum(dim=-1, keepdim=True)  # renormalize\n",
    "            \n",
    "        if temperature > 0:\n",
    "            idx_next = torch.multinomial(probas, dim=-1, keepdim=True)  # rolls according to the value of each face\n",
    "        else:\n",
    "            idx_next = torch.argmax(logits, dim=-1, keepdim=True)\n",
    "        \n",
    "        idx = torch.cat((idx, idx_next), dim=1)\n",
    "        \n",
    "        if eos_id is not None and (idx_next == eos_id).any():  # Check any occurrence of EOS\n",
    "            break\n",
    "        \n",
    "    return idx"
   ]
  }
 ],
 "metadata": {
  "kernelspec": {
   "display_name": "base",
   "language": "python",
   "name": "python3"
  },
  "language_info": {
   "codemirror_mode": {
    "name": "ipython",
    "version": 3
   },
   "file_extension": ".py",
   "mimetype": "text/x-python",
   "name": "python",
   "nbconvert_exporter": "python",
   "pygments_lexer": "ipython3",
   "version": "3.12.8"
  }
 },
 "nbformat": 4,
 "nbformat_minor": 2
}
